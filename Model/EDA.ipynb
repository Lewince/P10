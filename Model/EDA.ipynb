{
 "cells": [
  {
   "cell_type": "markdown",
   "id": "75d5a466-3f0f-495e-a437-ed98e5ceea81",
   "metadata": {},
   "source": [
    "# <center>Analyse exploratoire des données Microsoft Frames </center>"
   ]
  },
  {
   "cell_type": "markdown",
   "id": "a2865f67-55e0-4c48-990d-8552a6f1ced0",
   "metadata": {},
   "source": [
    "Import du fichier : "
   ]
  },
  {
   "cell_type": "code",
   "execution_count": 2,
   "id": "a3db12d1-6a0d-40f8-8044-413036d672b8",
   "metadata": {},
   "outputs": [],
   "source": [
    "import json\n",
    "\n",
    "with open('./data/frames.json') as inputfile : \n",
    "    frames = json.load(inputfile)"
   ]
  },
  {
   "cell_type": "markdown",
   "id": "bdd87f17-1c1e-4112-80d9-898f41ec7dfa",
   "metadata": {},
   "source": [
    "Observation du contenu des différents niveaux de l'objet json : "
   ]
  },
  {
   "cell_type": "code",
   "execution_count": 3,
   "id": "fd9d8da0-f927-46c4-af2f-f4ef2eb7769b",
   "metadata": {},
   "outputs": [
    {
     "data": {
      "text/plain": [
       "dict_keys(['user_id', 'turns', 'wizard_id', 'id', 'labels'])"
      ]
     },
     "execution_count": 3,
     "metadata": {},
     "output_type": "execute_result"
    }
   ],
   "source": [
    "frames[1368].keys()"
   ]
  },
  {
   "cell_type": "code",
   "execution_count": 4,
   "id": "632a86e8-be5a-40c4-ae13-a7ffbe1f8bba",
   "metadata": {},
   "outputs": [
    {
     "data": {
      "text/plain": [
       "{'userSurveyRating': 5.0, 'wizardSurveyTaskSuccessful': True}"
      ]
     },
     "execution_count": 4,
     "metadata": {},
     "output_type": "execute_result"
    }
   ],
   "source": [
    "frames[1368]['labels']"
   ]
  },
  {
   "cell_type": "markdown",
   "id": "eb00769a-783f-4048-9661-2628731cdf1f",
   "metadata": {},
   "source": [
    "Il y a ici un rating de satisfaction du dialogue - voyons la distribution des scores : "
   ]
  },
  {
   "cell_type": "code",
   "execution_count": 5,
   "id": "9e387b02-700a-40af-8a61-b65935ad6417",
   "metadata": {},
   "outputs": [],
   "source": [
    "import pandas as pd\n",
    "ratings = pd.Series([frames[i]['labels']['userSurveyRating'] for i in range(len(frames))])"
   ]
  },
  {
   "cell_type": "code",
   "execution_count": 6,
   "id": "479ca4c1-1ac1-48c9-b646-5a52485a8cbd",
   "metadata": {},
   "outputs": [
    {
     "data": {
      "text/plain": [
       "3"
      ]
     },
     "execution_count": 6,
     "metadata": {},
     "output_type": "execute_result"
    }
   ],
   "source": [
    "ratings.isna().sum()"
   ]
  },
  {
   "cell_type": "code",
   "execution_count": 7,
   "id": "14859547-5460-4450-9bfb-faa2089592df",
   "metadata": {},
   "outputs": [
    {
     "data": {
      "text/plain": [
       "5.00    982\n",
       "4.00    215\n",
       "3.00     83\n",
       "4.50     29\n",
       "2.00     28\n",
       "1.00     25\n",
       "3.50      2\n",
       "4.80      1\n",
       "4.99      1\n",
       "dtype: int64"
      ]
     },
     "execution_count": 7,
     "metadata": {},
     "output_type": "execute_result"
    }
   ],
   "source": [
    "ratings.value_counts()"
   ]
  },
  {
   "cell_type": "markdown",
   "id": "b793b093-ba90-40a1-8351-355a9359dfea",
   "metadata": {},
   "source": [
    "Vu les notes de l'ensemble, on ne gardera pour notre modèle que les interactions ayant un rating d'au moins 4 (on retire 138 interactions soit environ 10% de nos données)."
   ]
  },
  {
   "cell_type": "markdown",
   "id": "71b98294-3de7-4ffc-8ac4-404a11e19934",
   "metadata": {},
   "source": [
    "Voyons maintenant les autres contenus : "
   ]
  },
  {
   "cell_type": "code",
   "execution_count": 8,
   "id": "94676da2-1e19-4e56-8c36-7492c1b2517a",
   "metadata": {},
   "outputs": [
    {
     "data": {
      "text/plain": [
       "{'text': \"I need to book a trip for the whole family from Tampa but we don't know where to go. Can you help us?\",\n",
       " 'labels': {'acts': [{'args': [{'val': 'book', 'key': 'intent'}],\n",
       "    'name': 'inform'},\n",
       "   {'args': [{'val': 'Tampa', 'key': 'or_city'},\n",
       "     {'val': '-1', 'key': 'dst_city'}],\n",
       "    'name': 'inform'}],\n",
       "  'acts_without_refs': [{'args': [{'val': 'book', 'key': 'intent'}],\n",
       "    'name': 'inform'},\n",
       "   {'args': [{'val': 'Tampa', 'key': 'or_city'},\n",
       "     {'val': '-1', 'key': 'dst_city'}],\n",
       "    'name': 'inform'}],\n",
       "  'active_frame': 1,\n",
       "  'frames': [{'info': {'intent': [{'val': 'book', 'negated': False}],\n",
       "     'or_city': [{'val': 'Tampa', 'negated': False}],\n",
       "     'dst_city': [{'val': '-1', 'negated': False}]},\n",
       "    'frame_id': 1,\n",
       "    'requests': [],\n",
       "    'frame_parent_id': None,\n",
       "    'binary_questions': [],\n",
       "    'compare_requests': []}]},\n",
       " 'author': 'user',\n",
       " 'timestamp': 1473717094526.0}"
      ]
     },
     "execution_count": 8,
     "metadata": {},
     "output_type": "execute_result"
    }
   ],
   "source": [
    "frames[1368]['turns'][0]"
   ]
  },
  {
   "cell_type": "code",
   "execution_count": 34,
   "id": "979a65ae-4da1-404f-aced-2eee03b79725",
   "metadata": {},
   "outputs": [
    {
     "data": {
      "text/plain": [
       "'switch_frame'"
      ]
     },
     "execution_count": 34,
     "metadata": {},
     "output_type": "execute_result"
    }
   ],
   "source": [
    "frames[1]['turns'][12]['labels']['acts'][0]['name']"
   ]
  },
  {
   "cell_type": "code",
   "execution_count": 12,
   "id": "f3d5a7a0-5095-4128-9059-019db50fd847",
   "metadata": {},
   "outputs": [
    {
     "data": {
      "text/plain": [
       "[{'args': [{'val': 'book', 'key': 'intent'}], 'name': 'inform'},\n",
       " {'args': [{'val': 'Tampa', 'key': 'or_city'},\n",
       "   {'val': '-1', 'key': 'dst_city'}],\n",
       "  'name': 'inform'}]"
      ]
     },
     "execution_count": 12,
     "metadata": {},
     "output_type": "execute_result"
    }
   ],
   "source": [
    "frames[1368]['turns'][0]['labels']['acts_without_refs']"
   ]
  },
  {
   "cell_type": "code",
   "execution_count": 13,
   "id": "3392b49c-070f-4e08-adfe-c591bee929c9",
   "metadata": {},
   "outputs": [
    {
     "data": {
      "text/plain": [
       "1"
      ]
     },
     "execution_count": 13,
     "metadata": {},
     "output_type": "execute_result"
    }
   ],
   "source": [
    "frames[1368]['turns'][0]['labels']['active_frame']"
   ]
  },
  {
   "cell_type": "markdown",
   "id": "560da074-a74f-402d-8353-a144f577ab9d",
   "metadata": {},
   "source": [
    "La section info semble contenir la synthèse des infos engrangées sur l'interaction : "
   ]
  },
  {
   "cell_type": "code",
   "execution_count": 14,
   "id": "d37c04ff-afe8-4ec1-a414-fbd5d3efe0a7",
   "metadata": {},
   "outputs": [
    {
     "name": "stdout",
     "output_type": "stream",
     "text": [
      "\n",
      "\n",
      "key : intent  value : [{'val': 'book', 'negated': False}]\n",
      "\n",
      "\n",
      "key : budget  value : [{'val': '1700.0', 'negated': False}]\n",
      "\n",
      "\n",
      "key : dst_city  value : [{'val': 'Atlantis', 'negated': False}]\n",
      "\n",
      "\n",
      "key : or_city  value : [{'val': 'Caprica', 'negated': False}]\n",
      "\n",
      "\n",
      "key : str_date  value : [{'val': 'august 13', 'negated': False}]\n",
      "\n",
      "\n",
      "key : n_adults  value : [{'val': '8', 'negated': False}]\n"
     ]
    }
   ],
   "source": [
    "for key,value in frames[0]['turns'][0]['labels']['frames'][0]['info'].items():\n",
    "    print( f'\\n\\nkey : {key}  value : {value}')"
   ]
  },
  {
   "cell_type": "markdown",
   "id": "0704d18f-bda4-40dd-b606-192ebeb6cfc3",
   "metadata": {},
   "source": [
    "<br>La clé text contient la phrase envoyée par l'utilisateur au tour 0 : "
   ]
  },
  {
   "cell_type": "code",
   "execution_count": 15,
   "id": "5ee78410-03c1-4dde-ac75-f7375e435658",
   "metadata": {},
   "outputs": [
    {
     "data": {
      "text/plain": [
       "\"I'd like to book a trip to Atlantis from Caprica on Saturday, August 13, 2016 for 8 adults. I have a tight budget of 1700.\""
      ]
     },
     "execution_count": 15,
     "metadata": {},
     "output_type": "execute_result"
    }
   ],
   "source": [
    "frames[0]['turns'][0]['text']"
   ]
  },
  {
   "cell_type": "markdown",
   "id": "2b3e5f7d-d7ed-4f62-b83a-7d7d25d02750",
   "metadata": {},
   "source": [
    "La section labels contient des infos plus détaillées la différence entre with et without refs n'est pour l'instant pas comprise : "
   ]
  },
  {
   "cell_type": "code",
   "execution_count": 16,
   "id": "7560b580-0d40-4c6e-8c79-7fc26204dd45",
   "metadata": {},
   "outputs": [
    {
     "data": {
      "text/plain": [
       "dict_keys(['acts', 'acts_without_refs', 'active_frame', 'frames'])"
      ]
     },
     "execution_count": 16,
     "metadata": {},
     "output_type": "execute_result"
    }
   ],
   "source": [
    "frames[0]['turns'][0]['labels'].keys()"
   ]
  },
  {
   "cell_type": "code",
   "execution_count": 63,
   "id": "e0baa627-5e97-427c-a13d-28d3608853b3",
   "metadata": {},
   "outputs": [
    {
     "data": {
      "text/plain": [
       "[{'args': [{'val': 'book', 'key': 'intent'}], 'name': 'inform'},\n",
       " {'args': [{'val': 'Mos Eisley', 'key': 'dst_city'},\n",
       "   {'val': 'Gotham City', 'key': 'or_city'},\n",
       "   {'val': '2100', 'key': 'budget'}],\n",
       "  'name': 'inform'},\n",
       " {'args': [], 'name': 'greeting'}]"
      ]
     },
     "execution_count": 63,
     "metadata": {},
     "output_type": "execute_result"
    }
   ],
   "source": [
    "frames[1]['turns'][0]['labels']['acts']"
   ]
  },
  {
   "cell_type": "code",
   "execution_count": 64,
   "id": "66d60adc-cc27-4098-b3e1-a1587c144c5c",
   "metadata": {},
   "outputs": [
    {
     "data": {
      "text/plain": [
       "[{'args': [{'val': 'book', 'key': 'intent'}], 'name': 'inform'},\n",
       " {'args': [{'val': 'Mos Eisley', 'key': 'dst_city'},\n",
       "   {'val': 'Gotham City', 'key': 'or_city'},\n",
       "   {'val': '2100', 'key': 'budget'}],\n",
       "  'name': 'inform'},\n",
       " {'args': [], 'name': 'greeting'}]"
      ]
     },
     "execution_count": 64,
     "metadata": {},
     "output_type": "execute_result"
    }
   ],
   "source": [
    "frames[1]['turns'][0]['labels']['acts_without_refs']"
   ]
  },
  {
   "cell_type": "code",
   "execution_count": 18,
   "id": "2c65ae18-e40c-4c01-817f-2b3077dff905",
   "metadata": {},
   "outputs": [
    {
     "data": {
      "text/plain": [
       "{'dst_city': 'Atlantis',\n",
       " 'or_city': 'Caprica',\n",
       " 'str_date': 'Saturday, August 13, 2016',\n",
       " 'n_adults': '8',\n",
       " 'budget': '1700'}"
      ]
     },
     "execution_count": 18,
     "metadata": {},
     "output_type": "execute_result"
    }
   ],
   "source": [
    "args_dict = {}\n",
    "for elt in frames[0]['turns'][0]['labels']['acts'][1]['args']:\n",
    "    args_dict[elt['key']] = elt['val']\n",
    "args_dict"
   ]
  },
  {
   "cell_type": "code",
   "execution_count": 19,
   "id": "7c4c358b-2913-46af-9a0d-26cd150183e4",
   "metadata": {},
   "outputs": [
    {
     "data": {
      "text/plain": [
       "{'dst_city': 'Atlantis',\n",
       " 'or_city': 'Caprica',\n",
       " 'str_date': 'Saturday, August 13, 2016',\n",
       " 'n_adults': '8',\n",
       " 'budget': '1700'}"
      ]
     },
     "execution_count": 19,
     "metadata": {},
     "output_type": "execute_result"
    }
   ],
   "source": [
    "args_noref_dict = {}\n",
    "for elt in frames[0]['turns'][0]['labels']['acts_without_refs'][1]['args']:\n",
    "    args_noref_dict[elt['key']] = elt['val']\n",
    "args_noref_dict"
   ]
  },
  {
   "cell_type": "markdown",
   "id": "db79e192-9585-4bb8-87d0-63a46da5d614",
   "metadata": {},
   "source": [
    "## Essais de préparation des données à l'apprentissage avec LUIS : "
   ]
  },
  {
   "cell_type": "markdown",
   "id": "285ccdc8-8631-45c9-84eb-73c1dc1d85d4",
   "metadata": {},
   "source": [
    "Mise en forme des données pour un apprentissage basé seulement sur la compréhension de la 1ère demande : "
   ]
  },
  {
   "cell_type": "code",
   "execution_count": 22,
   "id": "bea01f83-632c-4331-8dae-5ed800e275c6",
   "metadata": {},
   "outputs": [],
   "source": [
    "def get_example_label(statement, entity_name, value):\n",
    "            statement = statement.lower()\n",
    "            value = value.lower()\n",
    "            return {\n",
    "                'entity_name': entity_name,\n",
    "                'start_char_index': statement.find(value),\n",
    "                'end_char_index': statement.find(value) + len(value)\n",
    "            }"
   ]
  },
  {
   "cell_type": "code",
   "execution_count": 77,
   "id": "f52578d7-612f-44d2-a807-9b0dcb6d4077",
   "metadata": {},
   "outputs": [],
   "source": [
    "from IPython.display import clear_output\n",
    "\n",
    "v1_keys = ['or_city', 'dst_city', 'str_date', 'end_date', 'budget']\n",
    "\n",
    "def build_training_dict(frames=frames, noref = False,\n",
    "                        required_keys = v1_keys):\n",
    "    training_list = []\n",
    "    args_list = []\n",
    "    for i in range(len(frames)):\n",
    "        print(f'now_processing_interaction {i} of {len(frames)}')\n",
    "        clear_output(wait=True)\n",
    "        text = frames[i]['turns'][0]['text']\n",
    "        if noref : \n",
    "            data = frames[i]['turns'][0]['labels']['acts_without_refs']\n",
    "        else : \n",
    "            data = frames[i]['turns'][0]['labels']['acts']\n",
    "        args_dict = {}\n",
    "        frames[i]['labels']['userSurveyRating'] = frames[i]['labels']['userSurveyRating']\\\n",
    "        if frames[i]['labels']['userSurveyRating'] else 0\n",
    "        \n",
    "        if frames[i]['labels']['userSurveyRating']>=4:\n",
    "            for i in range(len(data)): \n",
    "                for elt in data[i]['args']:\n",
    "                    if 'key' in elt.keys() and 'val' in elt.keys() : \n",
    "                        if elt['key'] in required_keys : \n",
    "                            args_dict[elt['key']] = elt['val']\n",
    "                            args_list.append(args_dict)\n",
    "            training_list.append({'text' : text,\n",
    "                              'intent_name' : \"book\",\n",
    "                              'entity_labels' : [\n",
    "                                  get_example_label(text, key, value) for key, value in args_dict.items()\n",
    "                              ]\n",
    "                             }\n",
    "                            )\n",
    "    return training_list, args_list"
   ]
  },
  {
   "cell_type": "code",
   "execution_count": 78,
   "id": "155463c3-dfe8-4e8f-8e3a-2b293f6e3629",
   "metadata": {},
   "outputs": [
    {
     "name": "stdout",
     "output_type": "stream",
     "text": [
      "now_processing_interaction 1368 of 1369\n"
     ]
    }
   ],
   "source": [
    "trainlist, args = build_training_dict()"
   ]
  },
  {
   "cell_type": "code",
   "execution_count": 80,
   "id": "543fd792-6e1c-4fdb-8bd7-9f3e59ef151f",
   "metadata": {},
   "outputs": [
    {
     "data": {
      "text/plain": [
       "[{'text': \"I'd like to book a trip to Atlantis from Caprica on Saturday, August 13, 2016 for 8 adults. I have a tight budget of 1700.\",\n",
       "  'intent_name': 'book',\n",
       "  'entity_labels': [{'entity_name': 'dst_city',\n",
       "    'start_char_index': 27,\n",
       "    'end_char_index': 35},\n",
       "   {'entity_name': 'or_city', 'start_char_index': 41, 'end_char_index': 48},\n",
       "   {'entity_name': 'str_date', 'start_char_index': 52, 'end_char_index': 77},\n",
       "   {'entity_name': 'budget', 'start_char_index': 117, 'end_char_index': 121}]},\n",
       " {'text': \"Hi I'd like to go to Caprica from Busan, between Sunday August 21, 2016 and Wednesday August 31, 2016\",\n",
       "  'intent_name': 'book',\n",
       "  'entity_labels': [{'entity_name': 'dst_city',\n",
       "    'start_char_index': 21,\n",
       "    'end_char_index': 28},\n",
       "   {'entity_name': 'or_city', 'start_char_index': 34, 'end_char_index': 39},\n",
       "   {'entity_name': 'str_date', 'start_char_index': 49, 'end_char_index': 71},\n",
       "   {'entity_name': 'end_date',\n",
       "    'start_char_index': 76,\n",
       "    'end_char_index': 101}]},\n",
       " {'text': 'Hello, I am looking to book a trip for 2 adults and 6 children for $21,300 or less. We are departing from Kochi for Denver.',\n",
       "  'intent_name': 'book',\n",
       "  'entity_labels': [{'entity_name': 'budget',\n",
       "    'start_char_index': 67,\n",
       "    'end_char_index': 74},\n",
       "   {'entity_name': 'or_city', 'start_char_index': 106, 'end_char_index': 111},\n",
       "   {'entity_name': 'dst_city',\n",
       "    'start_char_index': 116,\n",
       "    'end_char_index': 122}]},\n",
       " {'text': \"I'm looking for a trip to Gotham City leaving from Kakariko Village on Saturday, August 13, 2016. 3 adults for no more than $2400 USD.\",\n",
       "  'intent_name': 'book',\n",
       "  'entity_labels': [{'entity_name': 'dst_city',\n",
       "    'start_char_index': 26,\n",
       "    'end_char_index': 37},\n",
       "   {'entity_name': 'or_city', 'start_char_index': 51, 'end_char_index': 67},\n",
       "   {'entity_name': 'str_date', 'start_char_index': 71, 'end_char_index': 96},\n",
       "   {'entity_name': 'budget', 'start_char_index': 124, 'end_char_index': 133}]},\n",
       " {'text': 'Hello, I would like to book a 2-week trip leaving from Melbourne on August 27. I would like to go to Mannheim.',\n",
       "  'intent_name': 'book',\n",
       "  'entity_labels': [{'entity_name': 'or_city',\n",
       "    'start_char_index': 55,\n",
       "    'end_char_index': 64},\n",
       "   {'entity_name': 'dst_city', 'start_char_index': 101, 'end_char_index': 109},\n",
       "   {'entity_name': 'str_date', 'start_char_index': 68, 'end_char_index': 77}]}]"
      ]
     },
     "execution_count": 80,
     "metadata": {},
     "output_type": "execute_result"
    }
   ],
   "source": [
    "trainlist[:5]"
   ]
  },
  {
   "cell_type": "markdown",
   "id": "760629fd-2511-4b04-ba15-0df4af61a402",
   "metadata": {},
   "source": [
    "Voici donc à quoi pourrait ressembler notre jeu d'apprentissage : "
   ]
  },
  {
   "cell_type": "code",
   "execution_count": 81,
   "id": "7c0fa275-4462-4031-9333-7d37d64b3d44",
   "metadata": {},
   "outputs": [],
   "source": [
    "trainset = trainlist[:1000]\n",
    "testset = trainlist[1000:]"
   ]
  },
  {
   "cell_type": "markdown",
   "id": "8ea7406d-59f8-42cb-9333-df768f2c0a84",
   "metadata": {},
   "source": [
    "On va coder une classe permettant l'entraînement et l'évaluation du modèle sur la base de cette structure de données."
   ]
  },
  {
   "cell_type": "code",
   "execution_count": null,
   "id": "0a7d6468-defa-48ef-be4b-8183aef8a7a7",
   "metadata": {},
   "outputs": [],
   "source": []
  }
 ],
 "metadata": {
  "kernelspec": {
   "display_name": "Python 3",
   "language": "python",
   "name": "python3"
  },
  "language_info": {
   "codemirror_mode": {
    "name": "ipython",
    "version": 3
   },
   "file_extension": ".py",
   "mimetype": "text/x-python",
   "name": "python",
   "nbconvert_exporter": "python",
   "pygments_lexer": "ipython3",
   "version": "3.6.13"
  }
 },
 "nbformat": 4,
 "nbformat_minor": 5
}
